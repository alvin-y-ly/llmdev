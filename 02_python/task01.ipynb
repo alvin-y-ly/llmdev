{
 "cells": [
  {
   "cell_type": "markdown",
   "id": "c62a50ca",
   "metadata": {},
   "source": [
    "# 仕様\n",
    "\n",
    "自己紹介プログラムを作成してください。\n",
    "- 名前と年齢を格納する変数を用意して、値の代入を行ってください。\n",
    "- 上記の変数を使用して、自己紹介の内容を出力してください。"
   ]
  },
  {
   "cell_type": "code",
   "execution_count": 1,
   "id": "b45ab10a",
   "metadata": {},
   "outputs": [
    {
     "name": "stdout",
     "output_type": "stream",
     "text": [
      "はじめまして、 Alvin と申します。\n",
      "年齢は 43 歳です。来年は 44 歳になります。\n",
      "よろしくお願いします。\n"
     ]
    }
   ],
   "source": [
    "name, age = \"Alvin\", 43\n",
    "print(f\"はじめまして、 {name} と申します。\")\n",
    "print(f\"年齢は {age} 歳です。来年は {age + 1} 歳になります。\")\n",
    "print(\"よろしくお願いします。\")"
   ]
  }
 ],
 "metadata": {
  "kernelspec": {
   "display_name": "llmdev (3.12.11)",
   "language": "python",
   "name": "python3"
  },
  "language_info": {
   "codemirror_mode": {
    "name": "ipython",
    "version": 3
   },
   "file_extension": ".py",
   "mimetype": "text/x-python",
   "name": "python",
   "nbconvert_exporter": "python",
   "pygments_lexer": "ipython3",
   "version": "3.12.11"
  }
 },
 "nbformat": 4,
 "nbformat_minor": 5
}
