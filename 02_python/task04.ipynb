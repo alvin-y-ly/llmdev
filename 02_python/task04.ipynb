{
 "cells": [
  {
   "cell_type": "markdown",
   "id": "84c3ee91",
   "metadata": {},
   "source": [
    "# 仕様\n",
    "\n",
    "- ユーザーに2つの数値を入力させ、それらを割り算するプログラムを作成してください。\n",
    "- 数値の代わりに文字を入力した場合は「エラー: 数値を入力してください」と表示します。\n",
    "- 割る数が0の場合は「エラー: 0で割ることはできません」と表示します。\n",
    "- 計算が正常に完了した場合、結果を表示してください。"
   ]
  },
  {
   "cell_type": "code",
   "execution_count": 5,
   "id": "c1564416",
   "metadata": {},
   "outputs": [
    {
     "name": "stdout",
     "output_type": "stream",
     "text": [
      "計算結果: 10.0\n"
     ]
    }
   ],
   "source": [
    "try:\n",
    "    n1 = int(input(\"Please enter the 1st number: \"))\n",
    "    n2 = int(input(\"Please enter the 2nd number: \"))\n",
    "    if n2 == 0:\n",
    "        print(\"エラー: 0で割ることはできません\")\n",
    "    else:\n",
    "        r = n1 / n2\n",
    "        print(f\"計算結果: {r}\")\n",
    "except ValueError:\n",
    "    print(\"エラー: 数値を入力してください\")"
   ]
  }
 ],
 "metadata": {
  "kernelspec": {
   "display_name": "llmdev (3.12.11)",
   "language": "python",
   "name": "python3"
  },
  "language_info": {
   "codemirror_mode": {
    "name": "ipython",
    "version": 3
   },
   "file_extension": ".py",
   "mimetype": "text/x-python",
   "name": "python",
   "nbconvert_exporter": "python",
   "pygments_lexer": "ipython3",
   "version": "3.12.11"
  }
 },
 "nbformat": 4,
 "nbformat_minor": 5
}
