{
 "cells": [
  {
   "cell_type": "markdown",
   "id": "60341643",
   "metadata": {},
   "source": [
    "# 仕様\n",
    "\n",
    "- 学生の成績をリストとして定義します。以下のソースコードを使用してください。\\\n",
    "  `grades = [85, 90, 78, 92, 88]`\n",
    "- 成績のリストを使用して以下を行ってください。\n",
    "  - 成績の平均点を計算します。\n",
    "  - 成績の最高点と最低点を求めます。\n",
    "  - 成績が平均以上の学生数をカウントします。\n",
    "- 結果を出力してください。"
   ]
  },
  {
   "cell_type": "code",
   "execution_count": 5,
   "id": "218efc2d",
   "metadata": {},
   "outputs": [
    {
     "name": "stdout",
     "output_type": "stream",
     "text": [
      "平均点: 86.6\n",
      "最高点: 92\n",
      "最低点: 78\n",
      "平均以上の学生数: 3\n"
     ]
    }
   ],
   "source": [
    "grades = [85, 90, 78, 92, 88]\n",
    "# grades = [70, 75, 80, 85, 90]\n",
    "\n",
    "average = sum(grades)/len(grades)\n",
    "ma, mi = max(grades), min(grades)\n",
    "cnt = sum(1 for g in grades if g > average)\n",
    "\n",
    "print(f'''平均点: {average}\n",
    "最高点: {ma}\n",
    "最低点: {mi}\n",
    "平均以上の学生数: {cnt}''')"
   ]
  }
 ],
 "metadata": {
  "kernelspec": {
   "display_name": "llmdev (3.12.11)",
   "language": "python",
   "name": "python3"
  },
  "language_info": {
   "codemirror_mode": {
    "name": "ipython",
    "version": 3
   },
   "file_extension": ".py",
   "mimetype": "text/x-python",
   "name": "python",
   "nbconvert_exporter": "python",
   "pygments_lexer": "ipython3",
   "version": "3.12.11"
  }
 },
 "nbformat": 4,
 "nbformat_minor": 5
}
