{
 "cells": [
  {
   "cell_type": "markdown",
   "id": "55b91619",
   "metadata": {},
   "source": [
    "# 仕様\n",
    "英単語の入力を受け付けます。未入力でリターン（エンター）キーを押されるまで、英単語の受付を繰り返します。受付が完了したら、入力された英単語をABC順に並べ替えて表示します。また、すべての英単語に含まれるアルファベットごとの数も表示します。"
   ]
  },
  {
   "cell_type": "code",
   "execution_count": 6,
   "id": "b1530223",
   "metadata": {},
   "outputs": [
    {
     "name": "stdout",
     "output_type": "stream",
     "text": [
      "入力した英単語： ['bear', 'cat', 'dog', 'mouse']\n",
      "aが2個ありました\n",
      "bが1個ありました\n",
      "cが1個ありました\n",
      "dが1個ありました\n",
      "eが2個ありました\n",
      "gが1個ありました\n",
      "mが1個ありました\n",
      "oが2個ありました\n",
      "rが1個ありました\n",
      "sが1個ありました\n",
      "tが1個ありました\n",
      "uが1個ありました\n"
     ]
    }
   ],
   "source": [
    "import string\n",
    "\n",
    "words = []\n",
    "d = dict.fromkeys(string.ascii_lowercase, 0)\n",
    "\n",
    "while True:\n",
    "    w = input(\"英単語を入力してください：\")\n",
    "    if not w:\n",
    "        break\n",
    "    if not (w.isalpha() and w.islower()):\n",
    "        continue\n",
    "    words.append(w)\n",
    "    for ch in w:\n",
    "        d[ch] += 1\n",
    "\n",
    "words.sort()\n",
    "print('入力した英単語：', words)\n",
    "\n",
    "for ch, cnt in d.items():\n",
    "    if cnt > 0:\n",
    "        print(f'{ch}が{cnt}個ありました')"
   ]
  }
 ],
 "metadata": {
  "kernelspec": {
   "display_name": "llmdev (3.12.11)",
   "language": "python",
   "name": "python3"
  },
  "language_info": {
   "codemirror_mode": {
    "name": "ipython",
    "version": 3
   },
   "file_extension": ".py",
   "mimetype": "text/x-python",
   "name": "python",
   "nbconvert_exporter": "python",
   "pygments_lexer": "ipython3",
   "version": "3.12.11"
  }
 },
 "nbformat": 4,
 "nbformat_minor": 5
}
